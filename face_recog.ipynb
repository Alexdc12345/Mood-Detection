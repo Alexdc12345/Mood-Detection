{
 "cells": [
  {
   "cell_type": "markdown",
   "metadata": {},
   "source": [
    "# Face Recognizer"
   ]
  },
  {
   "cell_type": "code",
   "execution_count": 5,
   "metadata": {},
   "outputs": [],
   "source": [
    "import cv2\n",
    "import os\n",
    "import numpy as np"
   ]
  },
  {
   "cell_type": "code",
   "execution_count": 6,
   "metadata": {},
   "outputs": [],
   "source": [
    "# Step 1: Data Collection \n",
    "# There are two datasets the folder containing only alex's images collected through a webcam and \n",
    "# The validation data with images from the webcam and random faces webscraped on the internet.\n",
    "\n",
    "#Path to folder containing reference images\n",
    "reference_images_folder = 'C:/Users/User/Downloads/img_recog/face_recog/alex_face'\n",
    "\n",
    "reference_images = os.listdir(reference_images_folder)"
   ]
  },
  {
   "cell_type": "code",
   "execution_count": 7,
   "metadata": {},
   "outputs": [],
   "source": [
    "# Step 2: Pre-processing\n",
    "# Resize all the images and change color to gray \n",
    "def pre_process_image(image_path, target_size=(300, 300)):\n",
    "    image = cv2.imread(image_path)\n",
    "    image = cv2.resize(image, target_size)\n",
    "    gray = cv2.cvtColor(image, cv2.COLOR_BGR2GRAY)\n",
    "    return gray\n",
    "\n",
    "# Pre-process all face images\n",
    "pre_processed_images = []\n",
    "\n",
    "for image_name in reference_images:\n",
    "    image_path = os.path.join(reference_images_folder, image_name)\n",
    "    pre_processed_image = pre_process_image(image_path)\n",
    "    pre_processed_images.append(pre_processed_image)"
   ]
  },
  {
   "cell_type": "code",
   "execution_count": 8,
   "metadata": {},
   "outputs": [],
   "source": [
    "# Step 3: Training\n",
    "# Load LBPH Face Recognizer\n",
    "face_recognizer = cv2.face.LBPHFaceRecognizer_create()\n",
    "\n",
    "# Assign label 0 to all images (We are using alex'folder here which contains only images of alex)\n",
    "labels = np.zeros(len(pre_processed_images), dtype=int)\n",
    "\n",
    "# Train the face recognizer\n",
    "face_recognizer.train(pre_processed_images, labels)"
   ]
  },
  {
   "cell_type": "code",
   "execution_count": 9,
   "metadata": {},
   "outputs": [],
   "source": [
    "# Step 4: Save the Model\n",
    "face_recognizer.save('C:/Users/User/Downloads/img_recog/alex_face_model.xml')"
   ]
  },
  {
   "cell_type": "code",
   "execution_count": 10,
   "metadata": {},
   "outputs": [],
   "source": [
    "def test_face_recognition(test_image_path, face_recognizer, threshold=40):\n",
    "    # Load the test image and pre-process it\n",
    "    test_image = pre_process_image(test_image_path)\n",
    "\n",
    "    # Recognize faces in the test image, for match quality the lower the better in LBPH face recognizer\n",
    "    label, match_quality = face_recognizer.predict(test_image)\n",
    "\n",
    "    # The match_quality level in LBPH face recognizer the lower the confidence score the better of a match it is.\n",
    "    if match_quality < threshold:\n",
    "        result = \"Alex's Face\"\n",
    "    else:\n",
    "        result = \"Unknown\"\n",
    "\n",
    "    return label, match_quality, result"
   ]
  },
  {
   "cell_type": "code",
   "execution_count": 12,
   "metadata": {},
   "outputs": [
    {
     "name": "stdout",
     "output_type": "stream",
     "text": [
      "Predicted Label: 0, Confidence: 18.738151172372124, Result: Alex's Face\n",
      "Predicted Label: 0, Confidence: 66.03921884797907, Result: Unknown\n"
     ]
    }
   ],
   "source": [
    "# Minor tests\n",
    "test_image_path = 'C:/Users/User/Downloads/img_recog/face_recog/validation/alex/alexface23.jpg'\n",
    "label, confidence, result = test_face_recognition(test_image_path, face_recognizer)\n",
    "print(f\"Predicted Label: {label}, Confidence: {confidence}, Result: {result}\")\n",
    "test_image_path = 'C:/Users/User/Downloads/img_recog/face_recog/validation/unknown/123.jpg'\n",
    "label, confidence, result = test_face_recognition(test_image_path, face_recognizer)\n",
    "print(f\"Predicted Label: {label}, Confidence: {confidence}, Result: {result}\")"
   ]
  },
  {
   "cell_type": "code",
   "execution_count": 13,
   "metadata": {},
   "outputs": [],
   "source": [
    "def count_faces_in_folder(folder_path, face_recognizer, threshold=40):\n",
    "    alex_face_count = 0\n",
    "    unknown_face_count = 0\n",
    "    \n",
    "    # Iterate over files in the folder\n",
    "    for filename in os.listdir(folder_path):\n",
    "        image_path = os.path.join(folder_path, filename)\n",
    "        \n",
    "        # Recognize faces in the image\n",
    "        label, match_quality, result = test_face_recognition(image_path, face_recognizer, threshold)\n",
    "        \n",
    "        # Update counters based on result\n",
    "        if result == \"Alex's Face\":\n",
    "            alex_face_count += 1\n",
    "        elif result == \"Unknown\":\n",
    "            unknown_face_count += 1\n",
    "    \n",
    "    return alex_face_count, unknown_face_count"
   ]
  },
  {
   "cell_type": "code",
   "execution_count": 14,
   "metadata": {},
   "outputs": [
    {
     "name": "stdout",
     "output_type": "stream",
     "text": [
      "Number of faces recognized as Alex's face: 100\n",
      "Number of faces recognized as Unknown: 0\n"
     ]
    }
   ],
   "source": [
    "# Folder path\n",
    "validation_folder = 'C:/Users/User/Downloads/img_recog/face_recog/validation/alex'\n",
    "\n",
    "# Count faces in the validation folder\n",
    "alex_face_count, unknown_face_count = count_faces_in_folder(validation_folder, face_recognizer)\n",
    "print(f\"Number of faces recognized as Alex's face: {alex_face_count}\")\n",
    "print(f\"Number of faces recognized as Unknown: {unknown_face_count}\")"
   ]
  },
  {
   "cell_type": "code",
   "execution_count": 15,
   "metadata": {},
   "outputs": [
    {
     "name": "stdout",
     "output_type": "stream",
     "text": [
      "Number of faces recognized as Alex's face: 0\n",
      "Number of faces recognized as Unknown: 100\n"
     ]
    }
   ],
   "source": [
    "validation_folder = 'C:/Users/User/Downloads/img_recog/face_recog/validation/unknown'\n",
    "\n",
    "# Count faces in the validation folder\n",
    "alex_face_count, unknown_face_count = count_faces_in_folder(validation_folder, face_recognizer)\n",
    "print(f\"Number of faces recognized as Alex's face: {alex_face_count}\")\n",
    "print(f\"Number of faces recognized as Unknown: {unknown_face_count}\")"
   ]
  },
  {
   "cell_type": "code",
   "execution_count": null,
   "metadata": {},
   "outputs": [
    {
     "name": "stdout",
     "output_type": "stream",
     "text": [
      "This indicates a perfect accuracy of 100% in recognizing Alex's face in the validation folder.\n",
      "There are 200 items in total wiht 100 being Alex's Face and the rest being Unknown face. The mode correctly predicted all 200 of the images\n"
     ]
    }
   ],
   "source": [
    "print(\"This indicates a perfect accuracy of 100% in recognizing Alex's face in the validation folder.\\nThere are 200 items in total wiht 100 being Alex's Face and the rest being Unknown face. The mode correctly predicted all 200 of the images\")"
   ]
  },
  {
   "cell_type": "markdown",
   "metadata": {},
   "source": [
    "\n"
   ]
  }
 ],
 "metadata": {
  "kernelspec": {
   "display_name": "base",
   "language": "python",
   "name": "python3"
  },
  "language_info": {
   "codemirror_mode": {
    "name": "ipython",
    "version": 3
   },
   "file_extension": ".py",
   "mimetype": "text/x-python",
   "name": "python",
   "nbconvert_exporter": "python",
   "pygments_lexer": "ipython3",
   "version": "3.11.7"
  }
 },
 "nbformat": 4,
 "nbformat_minor": 2
}
